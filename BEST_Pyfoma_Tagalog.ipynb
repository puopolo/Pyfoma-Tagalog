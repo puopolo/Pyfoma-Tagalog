{
  "nbformat": 4,
  "nbformat_minor": 0,
  "metadata": {
    "colab": {
      "provenance": [],
      "gpuType": "T4"
    },
    "kernelspec": {
      "name": "python3",
      "display_name": "Python 3"
    },
    "language_info": {
      "name": "python"
    }
  },
  "cells": [
    {
      "cell_type": "markdown",
      "source": [
        "<div align=right>\n",
        "Charlotte Puopolo<br>\n",
        "HAPLAP Morphology<br>\n",
        "EHU/UPV Univeristy of the Basque Country<br>\n",
        "Tutor: Dr. Mans Hulden<br>\n",
        "Spring 2024\n",
        "</div>\n",
        "\n",
        "<h1 align=center>A morphophonological generator and analyzer: Tagalog</h1>"
      ],
      "metadata": {
        "id": "7FKZzLhnzp18"
      }
    },
    {
      "cell_type": "markdown",
      "source": [
        "## Linguistic analysis\n",
        "\n",
        "Some context for Tagalog's grammar:\n",
        "* Tagalog is a language incredibly rich in morphemes.\n",
        "* Verbs are not subject- or pronoun-dependent, ie. they do not change depending on the gender or number of actors. They do have some tricky  conjugations, however.\n",
        "* Verbs do not exactly have tenses, only aspects that are:\n",
        "  * infinitive - the default or basic form of the verb; also used in the imperative (commands)\n",
        "  * perfective / completed - action that has already been completed (sometimes confused with past)\n",
        "  * imperfective / progressive - action that has been started but not yet completed\n",
        "  * contemplative / unstarted- action that has yet to be started (sometimes confused with future).\n",
        "* An example of the time aspects:\n",
        "  * eg. Naglalakad ako - I am walking  (progressive)\n",
        "  * eg. Naglalakad ako kagabi - I was walking last night (progressive, kagabi = last night)\n",
        "* Tagalog uses a \"focus system\" that uses verbs to stress the importance of some element of the sentence, such as the actor, object, instrument, or direction of the action. Most Tagalog learners begin with **actor focused** conjugations so that is the scope of this project.\n",
        "* Some nouns are included below the verb rules.\n",
        "\n",
        "The data has been grouped into the 3 most common actor-focused verb groups, which is what most Tagalog learners study first.\n",
        "\n",
        "|Verb type|Stem   |Infinitive|Perfective|Progressive|Contemplative|Translation|\n",
        "|---------|-------|----------|----------|-----------|-----------|-----------|\n",
        "|(1) mag- |lakad  |maglakad  |naglakad  |naglalakad |maglalakad | 'walk'    |\n",
        "|         |salita |magsalita |nagsalita |nagsasalita|magsasalita| 'talk'    |\n",
        "|         |luto   |magluto   |nagluto   |nagluluto  |magluluto  | 'cook'    |\n",
        "|         |mahal  |magmahal  |nagmahal  |nagmamahal |nagmamahal | 'love'    |\n",
        "|         |sulat  |magsulat  |nagsulat  |nagsusulat |magsusulat | 'write'   |\n",
        "|         |aral   |magaral   |nagaral   |nagaaral   |magaaral   | 'study'   |\n",
        "|         |turò   |magturò   |nagturò   |nagtuturò  |magtuturò  | 'teach'   |\n",
        "|         |laba   |maglaba   |naglaba   |naglalaba  |maglalaba  | 'wash'    |\n",
        "|         |maneho |magmaneho |nagmaneho |nagmamaneho|magmamaneho| 'drive'   |\n",
        "|         |suklay |magsuklay |nagsuklay |nagsusuklay|magsusuklay| 'comb'    |\n",
        "|         |basa   |magbasa   |nagbasa   |nagbabasa  |magbabasa  | 'read'    |\n",
        "|(2) ma-  |tulog  |matulog   |natulog   |natutulog  |matutulog  |'sleep'    |\n",
        "|         |kinig  |makinig   |natinig   |nakikinig  |makikinig  |'listen'   |\n",
        "|         |nood   |manood    |nanood    |nanonood   |manonood   |'watch'    |\n",
        "|         |ligo   |maligo    |naligo    |naliligo   |maliligo   |'bathe'    |\n",
        "|         |lungkot|malungkot |nalungkot |nalulungkot|malulungkot|'be sad'   |\n",
        "|         |higa   |mahigâ    |nahigâ    |nahihigâ   |mahihigâ   |'lie down' |\n",
        "|         |upo    |maupô     |naupô     |nauupô     |mauupô     |'sit'      |\n",
        "|         |galit  |magalit   |nagalit   |nagagalit  |magagalit  |'be angry' |\n",
        "|         |nginig |manginig  |nanginig  |nanginginig|manginginig|'shiver'   |\n",
        "|         |sisi   |masisi    |nasisi    |nasisisi   |masisisi   |'blame'    |\n",
        "|         |huli   |mahuli    |nahuli    |nahuhuli   |mahuhuli   |'catch'    |\n",
        "|(2) um-  |bili   |bumili    |bumili    |bumibili   |bibili     |'buy'      |\n",
        "|         |kain   |kumain    |kumain    |kumakain   |kakain     |'eat'      |\n",
        "|         |tawag  |tumawag   |tumawag   |tumatawag  |tatawag    |'call'     |\n",
        "|         |ngiti  |ngumiti   |ngumiti   |ngumingiti |ngingiti   |'smile'    |\n",
        "|         |labas  |lumabas   |lumabas   |lumalabas  |lumabas    |'wave'     |\n",
        "|         |tawa   |tumawa    |tumawa    |tumatawa   |tatwa      |'laugh'    |\n",
        "|         |takbo  |tumakbo   |tumakbo   |tumatakbo  |tatakbo    |'run'      |\n",
        "|         |sigaw  |sumigaw   |sumigaw   |sumisigaw  |sisigaw    |'yell'     |\n",
        "|         |talon  |tumalon   |tumalon   |tumatalon  |tatalon    |'jump'     |\n",
        "|         |kanta  |kumanta   |kumanta   |kumakanta  |kakanta    |'sing'     |\n",
        "|         |pili   |pumili    |pumili    |pumipili   |pipili     |'choose'   |"
      ],
      "metadata": {
        "id": "Z_mz78RCvwJa"
      }
    },
    {
      "cell_type": "code",
      "execution_count": 1,
      "metadata": {
        "id": "HzLd23ahsjp2",
        "colab": {
          "base_uri": "https://localhost:8080/"
        },
        "outputId": "2283746f-0e68-47e9-e781-3abe112f5e33"
      },
      "outputs": [
        {
          "output_type": "stream",
          "name": "stdout",
          "text": [
            "Collecting pyfoma\n",
            "  Downloading pyfoma-1.0.6-py3-none-any.whl (37 kB)\n",
            "Requirement already satisfied: IPython in /usr/local/lib/python3.10/dist-packages (from pyfoma) (7.34.0)\n",
            "Requirement already satisfied: graphviz in /usr/local/lib/python3.10/dist-packages (from pyfoma) (0.20.1)\n",
            "Requirement already satisfied: setuptools>=18.5 in /usr/local/lib/python3.10/dist-packages (from IPython->pyfoma) (67.7.2)\n",
            "Collecting jedi>=0.16 (from IPython->pyfoma)\n",
            "  Downloading jedi-0.19.1-py2.py3-none-any.whl (1.6 MB)\n",
            "\u001b[2K     \u001b[90m━━━━━━━━━━━━━━━━━━━━━━━━━━━━━━━━━━━━━━━━\u001b[0m \u001b[32m1.6/1.6 MB\u001b[0m \u001b[31m30.8 MB/s\u001b[0m eta \u001b[36m0:00:00\u001b[0m\n",
            "\u001b[?25hRequirement already satisfied: decorator in /usr/local/lib/python3.10/dist-packages (from IPython->pyfoma) (4.4.2)\n",
            "Requirement already satisfied: pickleshare in /usr/local/lib/python3.10/dist-packages (from IPython->pyfoma) (0.7.5)\n",
            "Requirement already satisfied: traitlets>=4.2 in /usr/local/lib/python3.10/dist-packages (from IPython->pyfoma) (5.7.1)\n",
            "Requirement already satisfied: prompt-toolkit!=3.0.0,!=3.0.1,<3.1.0,>=2.0.0 in /usr/local/lib/python3.10/dist-packages (from IPython->pyfoma) (3.0.43)\n",
            "Requirement already satisfied: pygments in /usr/local/lib/python3.10/dist-packages (from IPython->pyfoma) (2.16.1)\n",
            "Requirement already satisfied: backcall in /usr/local/lib/python3.10/dist-packages (from IPython->pyfoma) (0.2.0)\n",
            "Requirement already satisfied: matplotlib-inline in /usr/local/lib/python3.10/dist-packages (from IPython->pyfoma) (0.1.6)\n",
            "Requirement already satisfied: pexpect>4.3 in /usr/local/lib/python3.10/dist-packages (from IPython->pyfoma) (4.9.0)\n",
            "Requirement already satisfied: parso<0.9.0,>=0.8.3 in /usr/local/lib/python3.10/dist-packages (from jedi>=0.16->IPython->pyfoma) (0.8.3)\n",
            "Requirement already satisfied: ptyprocess>=0.5 in /usr/local/lib/python3.10/dist-packages (from pexpect>4.3->IPython->pyfoma) (0.7.0)\n",
            "Requirement already satisfied: wcwidth in /usr/local/lib/python3.10/dist-packages (from prompt-toolkit!=3.0.0,!=3.0.1,<3.1.0,>=2.0.0->IPython->pyfoma) (0.2.13)\n",
            "Installing collected packages: jedi, pyfoma\n",
            "Successfully installed jedi-0.19.1 pyfoma-1.0.6\n"
          ]
        }
      ],
      "source": [
        "!pip install pyfoma\n",
        "from pyfoma import *"
      ]
    },
    {
      "cell_type": "markdown",
      "source": [
        "##Defining all verb stems and aspect prefixes"
      ],
      "metadata": {
        "id": "mx1wK4Uvtu99"
      }
    },
    {
      "cell_type": "code",
      "source": [
        "fsts = {}\n",
        "fsts['mag_stems'] = FST.re(\"(lakad)|(salita)|(luto)|(mahal)|(sulat)|(turò)|(aral)|(laba)|(suklay)|(basa)|(maneho)\") # mag stems here\n",
        "fsts['mag_prefix'] = FST.re(\"'[V INF]':(mag) |'[V INF]':(mag) | '[V Perfect]':(nag) | '[V Prog]':(nagxx) | '[V Contempl]':(magxx)\")\n",
        "fsts['mag_verb'] = FST.re(\"$mag_prefix $mag_stems\", fsts)\n",
        "# xx is used as a cue for syllable repetition\n",
        "\n",
        "fsts['ma_stems'] = FST.re(\"(tulog)|(kinig)|(nood)|(ligo)|(lungkot)|(higâ)|(upô)|(galit)|(nginig)|(sisi)|(huli)\") # ma stems here\n",
        "fsts['ma_prefix']  = FST.re(\"'[V INF]':(ma) | '[V Perfect]':(na) | '[V Prog]': (naxx) | '[V Contempl]':(maxx)\")\n",
        "fsts['ma_verb']   = FST.re(\"$ma_prefix $ma_stems\", fsts)\n",
        "\n",
        "fsts['um_stems']   = FST.re(\"(bili)|(kain)|(tawag)|(ngiti)|(tawa)|(labas)|(takbo)|(kanta)|(pili)|(sigaw)|(talon)\") # um stems here\n",
        "fsts['um_prefix']  = FST.re(\"'[V INF]':(2um) | '[V Perfect]':(2um) | '[V Prog]':(2umxx) | '[V Contempl]':(xx)\")\n",
        "fsts['um_verb']   = FST.re(\"$um_prefix $um_stems\", fsts)\n",
        "# 2 is used as a cue for copying the first letter of the stem\n",
        "\n",
        "fsts['VP'] = FST.re(\"$mag_verb|$ma_verb|$um_verb\", fsts)\n",
        "\n",
        "fsts['C'] = FST.re(\"[a-z]-[aeiou]\")\n",
        "fsts['V'] = FST.re(\"[aeiou]\")\n",
        "\n",
        "# print(Paradigm(fsts['mag_verb'], \".*\"))"
      ],
      "metadata": {
        "id": "QI-DCAJmzx96"
      },
      "execution_count": 2,
      "outputs": []
    },
    {
      "cell_type": "markdown",
      "source": [
        "## Rules needed:\n",
        "* double the consonant-vowel pair after 'xx'\n",
        "  * applies to all mag- and ma- verbs that start with a consonant-vowel pair (all conjugations)\n",
        "  * applies to all um- verbs in Progressive and Contemplative conjugations\n",
        "* double the vowel that directly follows 'xx'\n",
        "  * applies to all mag- and ma- verbs that start with a vowel (aral, upo)\n",
        "* delete 'xx'\n",
        "* change '2' to the first consonant of the stem\n",
        "  * applies to all um- verbs in Infinitive and Perfective conjugations\n",
        "* delete the original first consonant of the stem\n",
        "  * applies to all um- verbs in Infinitive and Perfective conjugations"
      ],
      "metadata": {
        "id": "C9b1IVd-ByjS"
      }
    },
    {
      "cell_type": "markdown",
      "source": [
        "### Challenge: Syllabic repetition\n",
        "Tagalog uses lots of syllablic repetition and what this project needs is a way to solve:\n",
        "\n",
        "If a consonant-vowel pair follows 'xx' (my shorthand to cue a doubled syllable), it should double that exact consonant-vowel pair. I looked through the Pyfoma and RegularExpressionCompiler documentation and this is what I came up with:\n",
        "\n",
        "```\n",
        "fsts['syllable'] = FST.re(\"$C $V|(ngi)\", fsts)\n",
        "fsts['double_syllable'] = FST.re(\"$^rewrite($syllable:$syllable{2} / (xx)_ )\", fsts) # delete xx and double the syllable\n",
        "```\n",
        "but what this code outputs is every possible syllable. Instead of just printing the desired output, it prints all possible CV pairs.\n",
        "\n",
        "eg. for the verb luto --> magxxluto --> **lu**luto\n",
        "\n",
        "this code produces: baluto beluto biluto boluto buluto caluto, etc. for every CV combo.\n",
        "\n",
        "**Update** Dr. Mans Hulden, creator of Pyfoma, confirmed that Pyfoma lacks a simple way to do this. The following solution is one of the most efficient ways to do it."
      ],
      "metadata": {
        "id": "6gkab2fttMwd"
      }
    },
    {
      "cell_type": "code",
      "source": [
        "# SYLLABIC REPETION\n",
        "# Based on Tagalog verb catalogue there is no need for syllables that start with: c, f, j, q, v, x, z; and sparse m, n, r, y\n",
        "# it's uncommon to use the letter 'e' in bigram syllables (exceptions: re, se, be)\n",
        "# \"nga\" and \"ngi\" are the only trigram syllables because \"ng\" is regarded as a single letter (and phoneme) in the Tagalog alphabet\n",
        "# the following syllables are broken up in 3 lines only for aesthetic reasosn\n",
        "\n",
        "syllables1 = [\"ba\",\"be\",\"bi\",\"bo\",\"bu\",\"da\",\"di\",\"do\",\"du\",\"ga\",\"gi\",\"go\",\"gu\",\"ha\",\"hi\",\"ho\",\"hu\",\"ka\",\"ki\"]\n",
        "syllables2 = [\"ku\",\"la\",\"li\",\"lo\",\"lu\",\"ma\",\"mu\",\"na\",\"no\",\"nu\",\"pa\",\"pi\",\"po\",\"pu\",\"ra\",\"re\",\"ri\",\"sa\",\"se\"]\n",
        "syllables3 = [\"si\",\"so\",\"su\",\"ta\",\"ti\",\"to\",\"tu\",\"wa\",\"wi\",\"ya\",\"ngi\",\"nga\",\"aa\",\"ee\",\"ii\",\"oo\",\"uu\"]\n",
        "\n",
        "fsts['syllables1'] = FST.re(\"$^rewrite(\" + \"|\".join(f\"({s}):({s}{s})\" for s in syllables1) + '/ (xx)_ )', fsts)\n",
        "fsts['syllables2'] = FST.re(\"$^rewrite(\" + \"|\".join(f\"({s}):({s}{s})\" for s in syllables2) + '/ (xx)_ )', fsts)\n",
        "fsts['syllables3'] = FST.re(\"$^rewrite(\" + \"|\".join(f\"({s}):({s}{s})\" for s in syllables3) + '/ (xx)_ )', fsts)\n",
        "\n",
        "# Combine all rules\n",
        "fsts['repeat_rules'] = FST.re(\"$syllables1 @ $syllables2 @ $syllables3\", fsts)"
      ],
      "metadata": {
        "id": "s2280LTlPYIN"
      },
      "execution_count": 30,
      "outputs": []
    },
    {
      "cell_type": "code",
      "source": [
        "# delete xx\n",
        "fsts[\"xxdelete\"] = FST.re(\"$^rewrite((xx):'')\")\n",
        "fsts['um_cleanup'] = FST.re(\"$um_verb @ $repeat_rules @ $xxdelete\", fsts)\n",
        "fsts['ma_mag_cleanup'] = FST.re(\"($mag_verb | $ma_verb) @ $repeat_rules @ $xxdelete\", fsts)\n",
        "print(Paradigm(fsts['ma_mag_cleanup'], \".*\"))"
      ],
      "metadata": {
        "id": "k9ibWhPBisea",
        "colab": {
          "base_uri": "https://localhost:8080/"
        },
        "outputId": "2d441201-8012-4105-ed3e-df359e876812"
      },
      "execution_count": 31,
      "outputs": [
        {
          "output_type": "stream",
          "name": "stdout",
          "text": [
            "aral     [V Contempl]  magaral      \n",
            "aral     [V INF]       magaral      \n",
            "aral     [V Perfect]   nagaral      \n",
            "aral     [V Prog]      nagaral      \n",
            "basa     [V Contempl]  magbabasa    \n",
            "basa     [V INF]       magbasa      \n",
            "basa     [V Perfect]   nagbasa      \n",
            "basa     [V Prog]      nagbabasa    \n",
            "galit    [V Contempl]  magagalit    \n",
            "galit    [V INF]       magalit      \n",
            "galit    [V Perfect]   nagalit      \n",
            "galit    [V Prog]      nagagalit    \n",
            "higâ     [V Contempl]  mahihigâ     \n",
            "higâ     [V INF]       mahigâ       \n",
            "higâ     [V Perfect]   nahigâ       \n",
            "higâ     [V Prog]      nahihigâ     \n",
            "huli     [V Contempl]  mahuhuli     \n",
            "huli     [V INF]       mahuli       \n",
            "huli     [V Perfect]   nahuli       \n",
            "huli     [V Prog]      nahuhuli     \n",
            "kinig    [V Contempl]  makikinig    \n",
            "kinig    [V INF]       makinig      \n",
            "kinig    [V Perfect]   nakinig      \n",
            "kinig    [V Prog]      nakikinig    \n",
            "laba     [V Contempl]  maglalaba    \n",
            "laba     [V INF]       maglaba      \n",
            "laba     [V Perfect]   naglaba      \n",
            "laba     [V Prog]      naglalaba    \n",
            "lakad    [V Contempl]  maglalakad   \n",
            "lakad    [V INF]       maglakad     \n",
            "lakad    [V Perfect]   naglakad     \n",
            "lakad    [V Prog]      naglalakad   \n",
            "ligo     [V Contempl]  maliligo     \n",
            "ligo     [V INF]       maligo       \n",
            "ligo     [V Perfect]   naligo       \n",
            "ligo     [V Prog]      naliligo     \n",
            "lungkot  [V Contempl]  malulungkot  \n",
            "lungkot  [V INF]       malungkot    \n",
            "lungkot  [V Perfect]   nalungkot    \n",
            "lungkot  [V Prog]      nalulungkot  \n",
            "luto     [V Contempl]  magluluto    \n",
            "luto     [V INF]       magluto      \n",
            "luto     [V Perfect]   nagluto      \n",
            "luto     [V Prog]      nagluluto    \n",
            "mahal    [V Contempl]  magmamahal   \n",
            "mahal    [V INF]       magmahal     \n",
            "mahal    [V Perfect]   nagmahal     \n",
            "mahal    [V Prog]      nagmamahal   \n",
            "maneho   [V Contempl]  magmamaneho  \n",
            "maneho   [V INF]       magmaneho    \n",
            "maneho   [V Perfect]   nagmaneho    \n",
            "maneho   [V Prog]      nagmamaneho  \n",
            "nginig   [V Contempl]  manginginig  \n",
            "nginig   [V INF]       manginig     \n",
            "nginig   [V Perfect]   nanginig     \n",
            "nginig   [V Prog]      nanginginig  \n",
            "nood     [V Contempl]  manonood     \n",
            "nood     [V INF]       manood       \n",
            "nood     [V Perfect]   nanood       \n",
            "nood     [V Prog]      nanonood     \n",
            "salita   [V Contempl]  magsasalita  \n",
            "salita   [V INF]       magsalita    \n",
            "salita   [V Perfect]   nagsalita    \n",
            "salita   [V Prog]      nagsasalita  \n",
            "sisi     [V Contempl]  masisisi     \n",
            "sisi     [V INF]       masisi       \n",
            "sisi     [V Perfect]   nasisi       \n",
            "sisi     [V Prog]      nasisisi     \n",
            "suklay   [V Contempl]  magsusuklay  \n",
            "suklay   [V INF]       magsuklay    \n",
            "suklay   [V Perfect]   nagsuklay    \n",
            "suklay   [V Prog]      nagsusuklay  \n",
            "sulat    [V Contempl]  magsusulat   \n",
            "sulat    [V INF]       magsulat     \n",
            "sulat    [V Perfect]   nagsulat     \n",
            "sulat    [V Prog]      nagsusulat   \n",
            "tulog    [V Contempl]  matutulog    \n",
            "tulog    [V INF]       matulog      \n",
            "tulog    [V Perfect]   natulog      \n",
            "tulog    [V Prog]      natutulog    \n",
            "turò     [V Contempl]  magtuturò    \n",
            "turò     [V INF]       magturò      \n",
            "turò     [V Perfect]   nagturò      \n",
            "turò     [V Prog]      nagtuturò    \n",
            "upô      [V Contempl]  maupô        \n",
            "upô      [V INF]       maupô        \n",
            "upô      [V Perfect]   naupô        \n",
            "upô      [V Prog]      naupô        \n",
            "\n"
          ]
        }
      ]
    },
    {
      "cell_type": "markdown",
      "source": [
        "The following rules target \"um\" verbs that insert the prefix \"um\" _after_ the first consonant of the stem.\n",
        "\n",
        "Eg. _verb_ **kanta** + _prefix_ **um** in _aspect_ [V Perfect] -->  **kumanta**"
      ],
      "metadata": {
        "id": "vsf-JiJ8Sirn"
      }
    },
    {
      "cell_type": "code",
      "source": [
        "# Rewrite with initial consonant in front of \"um\"\n",
        "fsts['bum'] = FST.re(\"$^rewrite((2um):(bum) / _b)\", fsts) #change 2um to bum if follwed by b AND delete c\n",
        "fsts['dum'] = FST.re(\"$^rewrite((2um):(dum) / _d)\", fsts)\n",
        "fsts['gum'] = FST.re(\"$^rewrite((2um):(gum) / _g)\", fsts)\n",
        "fsts['hum'] = FST.re(\"$^rewrite((2um):(hum) / _h)\", fsts)\n",
        "fsts['kum'] = FST.re(\"$^rewrite((2um):(kum) / _k)\", fsts)\n",
        "fsts['lum'] = FST.re(\"$^rewrite((2um):(lum) / _l)\", fsts)\n",
        "fsts['mum'] = FST.re(\"$^rewrite((2um):(mum) / _m)\", fsts)\n",
        "fsts['num'] = FST.re(\"$^rewrite((2um):(num) / _n)\", fsts)\n",
        "fsts['pum'] = FST.re(\"$^rewrite((2um):(pum) / _p)\", fsts)\n",
        "fsts['rum'] = FST.re(\"$^rewrite((2um):(rum) / _r)\", fsts)\n",
        "fsts['sum'] = FST.re(\"$^rewrite((2um):(sum) / _s)\", fsts)\n",
        "fsts['tum'] = FST.re(\"$^rewrite((2um):(tum) / _t)\", fsts)\n",
        "fsts['yum'] = FST.re(\"$^rewrite((2um):(yum) / _y)\", fsts)\n",
        "fsts['ngum'] = FST.re(\"$^rewrite((2um):(ngum) / _ng)\", fsts)\n",
        "\n",
        "fsts['add_um'] = FST.re(\"$um_cleanup @ $ngum @ $bum @ $dum @ $gum @ $hum @ $kum @ $lum @ $mum @ $num @ $pum @ $rum @ $sum @ $tum @ $yum\", fsts)"
      ],
      "metadata": {
        "id": "JuLUf0v1zuk7"
      },
      "execution_count": 25,
      "outputs": []
    },
    {
      "cell_type": "code",
      "source": [
        "# Delete the original consonant that now appears after \"um\"\n",
        "fsts['ng_delete'] = FST.re(\"$^rewrite((ng):'' / u m _ $V)\", fsts) #ng is the exception\n",
        "fsts['C_delete'] = FST.re(\"$^rewrite($C:'' / u m _ $V)\", fsts)\n",
        "fsts['um_final'] = FST.re(\"$add_um @ $ng_delete @ $C_delete\", fsts)\n",
        "print(Paradigm(fsts['um_final'], \".*\"))"
      ],
      "metadata": {
        "id": "yu3u7Vw0JmIO",
        "colab": {
          "base_uri": "https://localhost:8080/"
        },
        "outputId": "a386431f-d6f7-4815-d71c-3e778e7bcb2d"
      },
      "execution_count": 26,
      "outputs": [
        {
          "output_type": "stream",
          "name": "stdout",
          "text": [
            "bili   [V Contempl]  bibili      \n",
            "bili   [V INF]       bumili      \n",
            "bili   [V Perfect]   bumili      \n",
            "bili   [V Prog]      bumibili    \n",
            "kain   [V Contempl]  kakain      \n",
            "kain   [V INF]       kumain      \n",
            "kain   [V Perfect]   kumain      \n",
            "kain   [V Prog]      kumakain    \n",
            "kanta  [V Contempl]  kakanta     \n",
            "kanta  [V INF]       kumanta     \n",
            "kanta  [V Perfect]   kumanta     \n",
            "kanta  [V Prog]      kumakanta   \n",
            "labas  [V Contempl]  lalabas     \n",
            "labas  [V INF]       lumabas     \n",
            "labas  [V Perfect]   lumabas     \n",
            "labas  [V Prog]      lumalabas   \n",
            "ngiti  [V Contempl]  ngingiti    \n",
            "ngiti  [V INF]       ngumiti     \n",
            "ngiti  [V Perfect]   ngumiti     \n",
            "ngiti  [V Prog]      ngumingiti  \n",
            "pili   [V Contempl]  pipili      \n",
            "pili   [V INF]       pumili      \n",
            "pili   [V Perfect]   pumili      \n",
            "pili   [V Prog]      pumipili    \n",
            "sigaw  [V Contempl]  sisigaw     \n",
            "sigaw  [V INF]       sumigaw     \n",
            "sigaw  [V Perfect]   sumigaw     \n",
            "sigaw  [V Prog]      sumisigaw   \n",
            "takbo  [V Contempl]  tatakbo     \n",
            "takbo  [V INF]       tumakbo     \n",
            "takbo  [V Perfect]   tumakbo     \n",
            "takbo  [V Prog]      tumatakbo   \n",
            "talon  [V Contempl]  tatalon     \n",
            "talon  [V INF]       tumalon     \n",
            "talon  [V Perfect]   tumalon     \n",
            "talon  [V Prog]      tumatalon   \n",
            "tawa   [V Contempl]  tatawa      \n",
            "tawa   [V INF]       tumawa      \n",
            "tawa   [V Perfect]   tumawa      \n",
            "tawa   [V Prog]      tumatawa    \n",
            "tawag  [V Contempl]  tatawag     \n",
            "tawag  [V INF]       tumawag     \n",
            "tawag  [V Perfect]   tumawag     \n",
            "tawag  [V Prog]      tumatawag   \n",
            "\n"
          ]
        }
      ]
    },
    {
      "cell_type": "markdown",
      "source": [
        "## All verbs in their final correct forms"
      ],
      "metadata": {
        "id": "Llz_tGfQb_cf"
      }
    },
    {
      "cell_type": "code",
      "source": [
        "fsts['all_verbs'] = FST.re(\"$um_final | $ma_mag_cleanup\", fsts)\n",
        "print(Paradigm(fsts['all_verbs'], \".*\"))"
      ],
      "metadata": {
        "id": "fxqnbseAADFI",
        "colab": {
          "base_uri": "https://localhost:8080/"
        },
        "outputId": "1ffb310d-7f6f-4ee7-bcbe-50101655098a"
      },
      "execution_count": 27,
      "outputs": [
        {
          "output_type": "stream",
          "name": "stdout",
          "text": [
            "aral     [V Contempl]  magaral      \n",
            "aral     [V INF]       magaral      \n",
            "aral     [V Perfect]   nagaral      \n",
            "aral     [V Prog]      nagaral      \n",
            "basa     [V Contempl]  magbabasa    \n",
            "basa     [V INF]       magbasa      \n",
            "basa     [V Perfect]   nagbasa      \n",
            "basa     [V Prog]      nagbabasa    \n",
            "bili     [V Contempl]  bibili       \n",
            "bili     [V INF]       bumili       \n",
            "bili     [V Perfect]   bumili       \n",
            "bili     [V Prog]      bumibili     \n",
            "galit    [V Contempl]  magagalit    \n",
            "galit    [V INF]       magalit      \n",
            "galit    [V Perfect]   nagalit      \n",
            "galit    [V Prog]      nagagalit    \n",
            "higâ     [V Contempl]  mahihigâ     \n",
            "higâ     [V INF]       mahigâ       \n",
            "higâ     [V Perfect]   nahigâ       \n",
            "higâ     [V Prog]      nahihigâ     \n",
            "huli     [V Contempl]  mahuhuli     \n",
            "huli     [V INF]       mahuli       \n",
            "huli     [V Perfect]   nahuli       \n",
            "huli     [V Prog]      nahuhuli     \n",
            "kain     [V Contempl]  kakain       \n",
            "kain     [V INF]       kumain       \n",
            "kain     [V Perfect]   kumain       \n",
            "kain     [V Prog]      kumakain     \n",
            "kanta    [V Contempl]  kakanta      \n",
            "kanta    [V INF]       kumanta      \n",
            "kanta    [V Perfect]   kumanta      \n",
            "kanta    [V Prog]      kumakanta    \n",
            "kinig    [V Contempl]  makikinig    \n",
            "kinig    [V INF]       makinig      \n",
            "kinig    [V Perfect]   nakinig      \n",
            "kinig    [V Prog]      nakikinig    \n",
            "laba     [V Contempl]  maglalaba    \n",
            "laba     [V INF]       maglaba      \n",
            "laba     [V Perfect]   naglaba      \n",
            "laba     [V Prog]      naglalaba    \n",
            "labas    [V Contempl]  lalabas      \n",
            "labas    [V INF]       lumabas      \n",
            "labas    [V Perfect]   lumabas      \n",
            "labas    [V Prog]      lumalabas    \n",
            "lakad    [V Contempl]  maglalakad   \n",
            "lakad    [V INF]       maglakad     \n",
            "lakad    [V Perfect]   naglakad     \n",
            "lakad    [V Prog]      naglalakad   \n",
            "ligo     [V Contempl]  maliligo     \n",
            "ligo     [V INF]       maligo       \n",
            "ligo     [V Perfect]   naligo       \n",
            "ligo     [V Prog]      naliligo     \n",
            "lungkot  [V Contempl]  malulungkot  \n",
            "lungkot  [V INF]       malungkot    \n",
            "lungkot  [V Perfect]   nalungkot    \n",
            "lungkot  [V Prog]      nalulungkot  \n",
            "luto     [V Contempl]  magluluto    \n",
            "luto     [V INF]       magluto      \n",
            "luto     [V Perfect]   nagluto      \n",
            "luto     [V Prog]      nagluluto    \n",
            "mahal    [V Contempl]  magmamahal   \n",
            "mahal    [V INF]       magmahal     \n",
            "mahal    [V Perfect]   nagmahal     \n",
            "mahal    [V Prog]      nagmamahal   \n",
            "maneho   [V Contempl]  magmamaneho  \n",
            "maneho   [V INF]       magmaneho    \n",
            "maneho   [V Perfect]   nagmaneho    \n",
            "maneho   [V Prog]      nagmamaneho  \n",
            "nginig   [V Contempl]  manginginig  \n",
            "nginig   [V INF]       manginig     \n",
            "nginig   [V Perfect]   nanginig     \n",
            "nginig   [V Prog]      nanginginig  \n",
            "ngiti    [V Contempl]  ngingiti     \n",
            "ngiti    [V INF]       ngumiti      \n",
            "ngiti    [V Perfect]   ngumiti      \n",
            "ngiti    [V Prog]      ngumingiti   \n",
            "nood     [V Contempl]  manonood     \n",
            "nood     [V INF]       manood       \n",
            "nood     [V Perfect]   nanood       \n",
            "nood     [V Prog]      nanonood     \n",
            "pili     [V Contempl]  pipili       \n",
            "pili     [V INF]       pumili       \n",
            "pili     [V Perfect]   pumili       \n",
            "pili     [V Prog]      pumipili     \n",
            "salita   [V Contempl]  magsasalita  \n",
            "salita   [V INF]       magsalita    \n",
            "salita   [V Perfect]   nagsalita    \n",
            "salita   [V Prog]      nagsasalita  \n",
            "sigaw    [V Contempl]  sisigaw      \n",
            "sigaw    [V INF]       sumigaw      \n",
            "sigaw    [V Perfect]   sumigaw      \n",
            "sigaw    [V Prog]      sumisigaw    \n",
            "sisi     [V Contempl]  masisisi     \n",
            "sisi     [V INF]       masisi       \n",
            "sisi     [V Perfect]   nasisi       \n",
            "sisi     [V Prog]      nasisisi     \n",
            "suklay   [V Contempl]  magsusuklay  \n",
            "suklay   [V INF]       magsuklay    \n",
            "suklay   [V Perfect]   nagsuklay    \n",
            "suklay   [V Prog]      nagsusuklay  \n",
            "sulat    [V Contempl]  magsusulat   \n",
            "sulat    [V INF]       magsulat     \n",
            "sulat    [V Perfect]   nagsulat     \n",
            "sulat    [V Prog]      nagsusulat   \n",
            "takbo    [V Contempl]  tatakbo      \n",
            "takbo    [V INF]       tumakbo      \n",
            "takbo    [V Perfect]   tumakbo      \n",
            "takbo    [V Prog]      tumatakbo    \n",
            "talon    [V Contempl]  tatalon      \n",
            "talon    [V INF]       tumalon      \n",
            "talon    [V Perfect]   tumalon      \n",
            "talon    [V Prog]      tumatalon    \n",
            "tawa     [V Contempl]  tatawa       \n",
            "tawa     [V INF]       tumawa       \n",
            "tawa     [V Perfect]   tumawa       \n",
            "tawa     [V Prog]      tumatawa     \n",
            "tawag    [V Contempl]  tatawag      \n",
            "tawag    [V INF]       tumawag      \n",
            "tawag    [V Perfect]   tumawag      \n",
            "tawag    [V Prog]      tumatawag    \n",
            "tulog    [V Contempl]  matutulog    \n",
            "tulog    [V INF]       matulog      \n",
            "tulog    [V Perfect]   natulog      \n",
            "tulog    [V Prog]      natutulog    \n",
            "turò     [V Contempl]  magtuturò    \n",
            "turò     [V INF]       magturò      \n",
            "turò     [V Perfect]   nagturò      \n",
            "turò     [V Prog]      nagtuturò    \n",
            "upô      [V Contempl]  maupô        \n",
            "upô      [V INF]       maupô        \n",
            "upô      [V Perfect]   naupô        \n",
            "upô      [V Prog]      naupô        \n",
            "\n"
          ]
        }
      ]
    },
    {
      "cell_type": "markdown",
      "source": [
        "##Some notes on Nouns\n",
        "\n",
        "These verbs are organized by type: person, object, place, event. This categorization would help in building a grammar checker that could detect, for example, which preposition to use with a type of noun."
      ],
      "metadata": {
        "id": "ZJOHfbOvyxfv"
      }
    },
    {
      "cell_type": "code",
      "source": [
        "fsts['plurality_marker'] = FST.re(\"'[Sing.]':''|'[Plural]':(mga' ')\")\n",
        "fsts['person'] = FST.re(\"'[N][person]':(lakaki)|'[N][person]':(babae)|'[N][person]':(atleta)|'[N][person]':(estudyante)|'[N][person]':(bayani)\", fsts)\n",
        "fsts['object'] = FST.re(\"'[N][object]':(pagkain)|'[N][object]':(sapatos)|'[N][object]':(kompyuter)|'[N][object]':(kotse)\", fsts)\n",
        "fsts['place'] = FST.re(\"'[N][place]':(unibersidad)|'[N][place]':(restawran)|'[N][place]':(mall)|'[N][place]':(ospital)|'[N][place]':(museo)\", fsts)\n",
        "fsts['event'] = FST.re(\"'[N][event]':(piyesta' 'opisyal)|'[N][event]':(pagdiriwang)|'[N][event]':(kapistahan)\", fsts)\n",
        "fsts['noun'] = FST.re(\"$person | $object | $place | $event\", fsts)\n",
        "fsts['NP'] = FST.re(\"$plurality_marker $noun\", fsts)\n",
        "print(Paradigm(fsts['NP'], \".*\"))"
      ],
      "metadata": {
        "id": "-VABD1rIWRfh",
        "colab": {
          "base_uri": "https://localhost:8080/"
        },
        "outputId": "023f3c13-5047-4d75-d269-f924c5d33270"
      },
      "execution_count": 28,
      "outputs": [
        {
          "output_type": "stream",
          "name": "stdout",
          "text": [
            "  [Plural][N][event]   mga kapistahan       \n",
            "  [Plural][N][event]   mga pagdiriwang      \n",
            "  [Plural][N][event]   mga piyesta opisyal  \n",
            "  [Plural][N][object]  mga kompyuter        \n",
            "  [Plural][N][object]  mga kotse            \n",
            "  [Plural][N][object]  mga pagkain          \n",
            "  [Plural][N][object]  mga sapatos          \n",
            "  [Plural][N][person]  mga atleta           \n",
            "  [Plural][N][person]  mga babae            \n",
            "  [Plural][N][person]  mga bayani           \n",
            "  [Plural][N][person]  mga estudyante       \n",
            "  [Plural][N][person]  mga lakaki           \n",
            "  [Plural][N][place]   mga mall             \n",
            "  [Plural][N][place]   mga museo            \n",
            "  [Plural][N][place]   mga ospital          \n",
            "  [Plural][N][place]   mga restawran        \n",
            "  [Plural][N][place]   mga unibersidad      \n",
            "  [Sing.][N][event]    kapistahan           \n",
            "  [Sing.][N][event]    pagdiriwang          \n",
            "  [Sing.][N][event]    piyesta opisyal      \n",
            "  [Sing.][N][object]   kompyuter            \n",
            "  [Sing.][N][object]   kotse                \n",
            "  [Sing.][N][object]   pagkain              \n",
            "  [Sing.][N][object]   sapatos              \n",
            "  [Sing.][N][person]   atleta               \n",
            "  [Sing.][N][person]   babae                \n",
            "  [Sing.][N][person]   bayani               \n",
            "  [Sing.][N][person]   estudyante           \n",
            "  [Sing.][N][person]   lakaki               \n",
            "  [Sing.][N][place]    mall                 \n",
            "  [Sing.][N][place]    museo                \n",
            "  [Sing.][N][place]    ospital              \n",
            "  [Sing.][N][place]    restawran            \n",
            "  [Sing.][N][place]    unibersidad          \n",
            "\n"
          ]
        }
      ]
    },
    {
      "cell_type": "markdown",
      "source": [
        "###End notes\n",
        "I have been interested in Tagalog since I visited the Philippines last summer and I found building this grammar to be very rewarding."
      ],
      "metadata": {
        "id": "X9DdNdOTwUV5"
      }
    },
    {
      "cell_type": "markdown",
      "source": [
        "##Sources:\n",
        "* https://github.com/mhulden/pyfoma/blob/main/docs/MorphologicalAnalyzerTutorial.ipynb\n",
        "* https://github.com/mhulden/pyfoma/blob/main/docs/RegularExpressionCompiler.ipynb\n",
        "* https://seasite.niu.edu/tagalog/tagalog_verbs.htm\n",
        "* https://owlcation.com/humanities/Filipino-Verbs-and-Tenses\n",
        "*https://ling-app.com/fil/tagalog-nouns/#:~:text=What%20Are%20Nouns%20In%20Tagalog,with%20these%20two%20Tagalog%20words."
      ],
      "metadata": {
        "id": "7jLC3it7E3fm"
      }
    }
  ]
}